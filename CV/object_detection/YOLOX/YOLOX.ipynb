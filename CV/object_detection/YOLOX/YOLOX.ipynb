{
 "cells": [
  {
   "cell_type": "code",
   "execution_count": null,
   "id": "47010e27-6bcb-42c9-b314-f51f40e301c5",
   "metadata": {
    "scrolled": true,
    "tags": []
   },
   "outputs": [],
   "source": [
    "!apt update"
   ]
  },
  {
   "cell_type": "code",
   "execution_count": null,
   "id": "6ffdd07d-a236-4135-89fa-b7d36f535d86",
   "metadata": {
    "scrolled": true,
    "tags": []
   },
   "outputs": [],
   "source": [
    "!apt-get install git-all -y"
   ]
  },
  {
   "cell_type": "code",
   "execution_count": null,
   "id": "3d6db41f-d759-497e-bdaf-1843734320a6",
   "metadata": {},
   "outputs": [],
   "source": [
    "!git clone https://github.com/Megvii-BaseDetection/YOLOX.git"
   ]
  },
  {
   "cell_type": "code",
   "execution_count": null,
   "id": "39127b23-079d-46b8-b2ba-1a3a563f9ea8",
   "metadata": {},
   "outputs": [],
   "source": [
    "!pwd"
   ]
  },
  {
   "cell_type": "code",
   "execution_count": null,
   "id": "8a840ea0-c6bb-4810-90cb-ed97d961644d",
   "metadata": {},
   "outputs": [],
   "source": [
    "%cd YOLOX"
   ]
  },
  {
   "cell_type": "code",
   "execution_count": null,
   "id": "c51a4686-e90d-40a8-b67b-af1cbf0d4eb6",
   "metadata": {
    "scrolled": true,
    "tags": []
   },
   "outputs": [],
   "source": [
    "!pip install -U pip && pip install -r requirements.txt\n",
    "!pip install opencv-python --upgrade"
   ]
  },
  {
   "cell_type": "code",
   "execution_count": 9,
   "id": "d4a5e83a-47f2-4dbe-a317-b34169f92077",
   "metadata": {},
   "outputs": [],
   "source": [
    "!mkdir weights"
   ]
  },
  {
   "cell_type": "code",
   "execution_count": null,
   "id": "8797a4cc-4155-4ef7-8497-99b3c1d2c516",
   "metadata": {},
   "outputs": [],
   "source": [
    "%cd weights/"
   ]
  },
  {
   "cell_type": "code",
   "execution_count": null,
   "id": "f0ddaf57-3b4e-42ff-8ea5-0897ad1c73d5",
   "metadata": {
    "scrolled": true,
    "tags": []
   },
   "outputs": [],
   "source": [
    "!apt-get install wget -y"
   ]
  },
  {
   "cell_type": "code",
   "execution_count": null,
   "id": "d755ae4e-45da-473d-84e8-04d6510b4141",
   "metadata": {
    "scrolled": true,
    "tags": []
   },
   "outputs": [],
   "source": [
    "!wget https://github.com/Megvii-BaseDetection/YOLOX/releases/download/0.1.1rc0/yolox_s.pth"
   ]
  },
  {
   "cell_type": "code",
   "execution_count": null,
   "id": "42c01e18-f624-4f2b-8351-98b7533b2e90",
   "metadata": {},
   "outputs": [],
   "source": [
    "%cd -"
   ]
  },
  {
   "cell_type": "code",
   "execution_count": null,
   "id": "950b29f6-30d7-4372-b728-57520fe2d51c",
   "metadata": {
    "scrolled": true,
    "tags": []
   },
   "outputs": [],
   "source": [
    "import torch\n",
    "print(torch.cuda.is_available())"
   ]
  },
  {
   "cell_type": "code",
   "execution_count": null,
   "id": "aaeb2bf4-504f-466a-aaa9-6559b6be945d",
   "metadata": {
    "scrolled": true,
    "tags": []
   },
   "outputs": [],
   "source": [
    "!python3 demo.py \\\n",
    "image -f exps/example/custom/yolox_s.py \\\n",
    "-c \"./weights/yolox_s.pth\" \\\n",
    "--path \"./data\" \\\n",
    "--conf 0.3 \\\n",
    "--nms 0.45 \\\n",
    "--tsize 640 \\\n",
    "--save_result"
   ]
  },
  {
   "cell_type": "code",
   "execution_count": null,
   "id": "b98c8995-b0a8-4e43-b05b-8563c86d819c",
   "metadata": {
    "scrolled": true,
    "tags": []
   },
   "outputs": [],
   "source": [
    "!pip install onnxruntime"
   ]
  },
  {
   "cell_type": "code",
   "execution_count": null,
   "id": "2f188579-a160-46a9-9494-ca4d54ae14d0",
   "metadata": {
    "scrolled": true,
    "tags": []
   },
   "outputs": [],
   "source": [
    "!pip install onnx"
   ]
  },
  {
   "cell_type": "code",
   "execution_count": null,
   "id": "3532aa73-53af-47e4-a7d0-75b601fa042c",
   "metadata": {
    "scrolled": true,
    "tags": []
   },
   "outputs": [],
   "source": [
    "!pip install onnxruntime-gpu"
   ]
  },
  {
   "cell_type": "markdown",
   "id": "9ccafcd2-22fb-4d38-bc41-ef7b8fc90b9a",
   "metadata": {},
   "source": [
    "## Convert pytorch to onnx"
   ]
  },
  {
   "cell_type": "code",
   "execution_count": null,
   "id": "3569bc3b-1aa5-4e40-b769-b66d45c140c0",
   "metadata": {
    "scrolled": true,
    "tags": []
   },
   "outputs": [],
   "source": [
    "!python export_onnx.py --output-name yolox_s.onnx -n yolox-s -c ./weights/yolox_s.pth\n",
    "\n",
    "# -n：ベースとなるモデル名。[yolox-s、m、l、xおよびyolox-nane、yolox-tiny、yolov3]から選択。\n",
    "# -c：変換前のモデル名\n",
    "# --output-name：変換後のモデル名"
   ]
  },
  {
   "cell_type": "code",
   "execution_count": 47,
   "id": "cb9f8ea0-02f8-4e8b-a245-03fa1f438f6d",
   "metadata": {
    "scrolled": true,
    "tags": []
   },
   "outputs": [
    {
     "data": {
      "text/plain": [
       "True"
      ]
     },
     "execution_count": 47,
     "metadata": {},
     "output_type": "execute_result"
    }
   ],
   "source": [
    "import argparse\n",
    "import os\n",
    "import cv2\n",
    "import numpy as np\n",
    "import pandas as pd\n",
    "import onnxruntime\n",
    "from yolox.data.data_augment import preproc as preprocess\n",
    "from yolox.data.datasets import COCO_CLASSES\n",
    "from yolox.utils import mkdir, multiclass_nms, demo_postprocess, vis\n",
    "\n",
    "\n",
    "output_dir ='onnx_out'\n",
    "image_path = './data/48_273271149030004599ea82.jpg'\n",
    "model = './yolox_s.onnx'\n",
    "\n",
    "input_shape = (640,640)\n",
    "\n",
    "\n",
    "origin_img = cv2.imread(image_path)\n",
    "img, ratio = preprocess(origin_img, input_shape)\n",
    "session = onnxruntime.InferenceSession(model)\n",
    "ort_inputs = {session.get_inputs()[0].name: img[None, :, :, :]}\n",
    "output = session.run(None, ort_inputs)\n",
    "predictions = demo_postprocess(output[0], input_shape)[0]\n",
    "boxes = predictions[:, :4]\n",
    "scores = predictions[:, 4:5] * predictions[:, 5:]\n",
    "boxes_xyxy = np.ones_like(boxes)\n",
    "boxes_xyxy[:, 0] = boxes[:, 0] - boxes[:, 2]/2.\n",
    "boxes_xyxy[:, 1] = boxes[:, 1] - boxes[:, 3]/2.\n",
    "boxes_xyxy[:, 2] = boxes[:, 0] + boxes[:, 2]/2.\n",
    "boxes_xyxy[:, 3] = boxes[:, 1] + boxes[:, 3]/2.\n",
    "boxes_xyxy /= ratio\n",
    "dets = multiclass_nms(boxes_xyxy, scores, nms_thr=0.45, score_thr=0.5)\n",
    "if dets is not None:\n",
    "    final_boxes, final_scores, final_cls_inds = dets[:, :4], dets[:, 4], dets[:, 5]\n",
    "    origin_img = vis(origin_img, final_boxes, final_scores, final_cls_inds,\n",
    "                      0.3, class_names=COCO_CLASSES)\n",
    "\n",
    "mkdir(output_dir)\n",
    "output_path = os.path.join(output_dir, os.path.basename(image_path))\n",
    "\n",
    "cv2.imwrite(output_path, origin_img)\n"
   ]
  },
  {
   "cell_type": "code",
   "execution_count": 48,
   "id": "aae31ba6-4a20-4b8d-87c0-3d1a24604d73",
   "metadata": {},
   "outputs": [],
   "source": [
    "import zipfile\n",
    "with zipfile.ZipFile('','r') as inputFile:\n",
    "    inputFile.extractall()"
   ]
  },
  {
   "cell_type": "markdown",
   "id": "709f252c-86a4-4862-a34b-f3615c17183d",
   "metadata": {},
   "source": [
    "## Tranining custom dataset"
   ]
  },
  {
   "cell_type": "code",
   "execution_count": null,
   "id": "0e6d80a9-dbd2-438a-b772-cd04cc78caf0",
   "metadata": {
    "scrolled": true,
    "tags": []
   },
   "outputs": [],
   "source": [
    "!pip install protobuf==3.20.*"
   ]
  },
  {
   "cell_type": "code",
   "execution_count": null,
   "id": "879b9456-7b1f-40d2-8879-a293423db9ea",
   "metadata": {
    "scrolled": true,
    "tags": []
   },
   "outputs": [],
   "source": [
    "!pip install numpy==1.23.0"
   ]
  },
  {
   "cell_type": "code",
   "execution_count": null,
   "id": "cd5073c7-5cd2-4c4b-aae7-d8edee553c8b",
   "metadata": {},
   "outputs": [],
   "source": [
    "%cd YOLOX"
   ]
  },
  {
   "cell_type": "code",
   "execution_count": null,
   "id": "789afc70-9ff7-4aac-9eec-d97c6216061d",
   "metadata": {
    "scrolled": true,
    "tags": []
   },
   "outputs": [],
   "source": [
    "!python3 train.py -f exps/example/custom/yolox_s.py -d 1 -b 32 --fp16 --cache  -c ./weights/yolox_s.pth"
   ]
  },
  {
   "cell_type": "code",
   "execution_count": null,
   "id": "be7bae80-a2ab-4163-8cb4-3bc38b65aa66",
   "metadata": {},
   "outputs": [],
   "source": [
    "import torch\n",
    "print(torch.cuda.is_available())"
   ]
  },
  {
   "cell_type": "markdown",
   "id": "b01b14ea-3e4a-44b8-a513-0cc7a8ecb7a6",
   "metadata": {},
   "source": [
    "### Isssue\n",
    "\n",
    "**ModuleNotFoundError: No module named 'yolox.layers.fast_cocoeval'**\n",
    "\n",
    "### sulution\n",
    "\n",
    "<!-- 294行目を下記に変更する -->\n",
    "from pycocotools.cocoeval import COCOeval\n"
   ]
  },
  {
   "cell_type": "code",
   "execution_count": null,
   "id": "20c0ce23-adab-48b0-8668-bc8c2c0b9ba6",
   "metadata": {
    "scrolled": true,
    "tags": []
   },
   "outputs": [],
   "source": [
    "!python3 eval.py -n  yolox-s -c ./YOLOX_outputs/yolox_s/best_ckpt.pth -b 64 -d 1 --conf 0.001 -f ./exps/example/custom/yolox_s.py\n"
   ]
  },
  {
   "cell_type": "code",
   "execution_count": null,
   "id": "08e5bba2-02f0-4535-97f3-6b107919d469",
   "metadata": {},
   "outputs": [],
   "source": []
  },
  {
   "cell_type": "code",
   "execution_count": null,
   "id": "566c6cb7-05c5-415f-9164-5824ab677e63",
   "metadata": {
    "scrolled": true,
    "tags": []
   },
   "outputs": [],
   "source": [
    "!python3 demo.py image -f exps/example/custom/yolox_s.py -c ./YOLOX_outputs/yolox_s/best_ckpt.pth --path ./data_ --conf 0.3 --nms 0.45 --tsize 640 --save_result\n"
   ]
  },
  {
   "cell_type": "code",
   "execution_count": null,
   "id": "69364beb-a085-4010-b314-37fc21f12ce9",
   "metadata": {},
   "outputs": [],
   "source": []
  },
  {
   "cell_type": "code",
   "execution_count": null,
   "id": "63b3827e-3f2d-422d-a48f-93d0ce4c3479",
   "metadata": {
    "scrolled": true,
    "tags": []
   },
   "outputs": [],
   "source": [
    "!python export_onnx.py --output-name yolox_s_custom.onnx -n yolox-s -c ./YOLOX_outputs/yolox_s/best_ckpt.pth\n",
    "\n",
    "# -n：ベースとなるモデル名。[yolox-s、m、l、xおよびyolox-nane、yolox-tiny、yolov3]から選択。\n",
    "# -c：変換前のモデル名\n",
    "# --output-name：変換後のモデル名"
   ]
  },
  {
   "cell_type": "code",
   "execution_count": 84,
   "id": "91f7af0b-46bf-4ac4-b973-11af202319b6",
   "metadata": {
    "scrolled": true,
    "tags": []
   },
   "outputs": [
    {
     "data": {
      "text/plain": [
       "True"
      ]
     },
     "execution_count": 84,
     "metadata": {},
     "output_type": "execute_result"
    }
   ],
   "source": [
    "import argparse\n",
    "import os\n",
    "import cv2\n",
    "import numpy as np\n",
    "import pandas as pd\n",
    "import onnxruntime\n",
    "from yolox.data.data_augment import preproc as preprocess\n",
    "from yolox.data.datasets import COCO_CLASSES\n",
    "from yolox.utils import mkdir, multiclass_nms, demo_postprocess, vis\n",
    "\n",
    "\n",
    "output_dir ='onnx_out'\n",
    "image_path = './data_/48_273271149030004599ea82.jpg'\n",
    "model = './yolox_s_custom.onnx'\n",
    "\n",
    "input_shape = (640,640)\n",
    "\n",
    "\n",
    "origin_img = cv2.imread(image_path)\n",
    "img, ratio = preprocess(origin_img, input_shape)\n",
    "session = onnxruntime.InferenceSession(model)\n",
    "ort_inputs = {session.get_inputs()[0].name: img[None, :, :, :]}\n",
    "output = session.run(None, ort_inputs)\n",
    "predictions = demo_postprocess(output[0], input_shape)[0]\n",
    "boxes = predictions[:, :4]\n",
    "scores = predictions[:, 4:5] * predictions[:, 5:]\n",
    "boxes_xyxy = np.ones_like(boxes)\n",
    "boxes_xyxy[:, 0] = boxes[:, 0] - boxes[:, 2]/2.\n",
    "boxes_xyxy[:, 1] = boxes[:, 1] - boxes[:, 3]/2.\n",
    "boxes_xyxy[:, 2] = boxes[:, 0] + boxes[:, 2]/2.\n",
    "boxes_xyxy[:, 3] = boxes[:, 1] + boxes[:, 3]/2.\n",
    "boxes_xyxy /= ratio\n",
    "dets = multiclass_nms(boxes_xyxy, scores, nms_thr=0.45, score_thr=0.5)\n",
    "if dets is not None:\n",
    "    final_boxes, final_scores, final_cls_inds = dets[:, :4], dets[:, 4], dets[:, 5]\n",
    "    origin_img = vis(origin_img, final_boxes, final_scores, final_cls_inds,\n",
    "                      0.3, class_names=COCO_CLASSES)\n",
    "\n",
    "mkdir(output_dir)\n",
    "output_path = os.path.join(output_dir, os.path.basename(image_path))\n",
    "\n",
    "cv2.imwrite(output_path, origin_img)\n"
   ]
  },
  {
   "cell_type": "code",
   "execution_count": 10,
   "id": "de32e912-32ff-4017-821b-334d79ae7cc7",
   "metadata": {},
   "outputs": [],
   "source": [
    "import zipfile\n",
    "with zipfile.ZipFile('','r') as inputFile:\n",
    "    inputFile.extractall()"
   ]
  },
  {
   "cell_type": "code",
   "execution_count": null,
   "id": "44e50666-8cb5-4069-91e3-d542e5cd954d",
   "metadata": {},
   "outputs": [],
   "source": []
  }
 ],
 "metadata": {
  "kernelspec": {
   "display_name": "Python 3 (ipykernel)",
   "language": "python",
   "name": "python3"
  },
  "language_info": {
   "codemirror_mode": {
    "name": "ipython",
    "version": 3
   },
   "file_extension": ".py",
   "mimetype": "text/x-python",
   "name": "python",
   "nbconvert_exporter": "python",
   "pygments_lexer": "ipython3",
   "version": "3.8.11"
  }
 },
 "nbformat": 4,
 "nbformat_minor": 5
}
