{
  "nbformat": 4,
  "nbformat_minor": 0,
  "metadata": {
    "colab": {
      "private_outputs": true,
      "provenance": []
    },
    "kernelspec": {
      "name": "python3",
      "display_name": "Python 3"
    },
    "language_info": {
      "name": "python"
    }
  },
  "cells": [
    {
      "cell_type": "code",
      "source": [
        "## https://github.com/nianticlabs/monodepth2"
      ],
      "metadata": {
        "id": "rEX-2lXQmH4t"
      },
      "execution_count": null,
      "outputs": []
    },
    {
      "cell_type": "code",
      "source": [
        "!git clone https://github.com/nianticlabs/monodepth2.git"
      ],
      "metadata": {
        "id": "L1waaf1fjF9g"
      },
      "execution_count": null,
      "outputs": []
    },
    {
      "cell_type": "code",
      "source": [
        "%cd /content/monodepth2"
      ],
      "metadata": {
        "id": "_9d1I5k6jF_l"
      },
      "execution_count": null,
      "outputs": []
    },
    {
      "cell_type": "code",
      "source": [
        "!python test_simple.py --image_path /content/images.jpg --model_name mono+stereo_640x192"
      ],
      "metadata": {
        "id": "-gxCAEOQjGBp"
      },
      "execution_count": null,
      "outputs": []
    }
  ]
}