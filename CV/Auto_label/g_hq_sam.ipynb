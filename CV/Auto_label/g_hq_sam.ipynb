{
 "cells": [
  {
   "cell_type": "markdown",
   "id": "dfac5a6f-f6b4-46fe-84df-6849ff2ba24b",
   "metadata": {},
   "source": [
    "## SAM-HQ(bbox prompt)"
   ]
  },
  {
   "cell_type": "markdown",
   "id": "5bd04de2-9630-4144-a91c-ff96653feaa7",
   "metadata": {},
   "source": [
    "### directory structure\n",
    "\n",
    "```\n",
    "./dataset\n",
    "    ├── input\n",
    "    │   ├── images\n",
    "    │   │   └── *.jpg\n",
    "    │   └── labels\n",
    "    │       └── *.txt\n",
    "    └── output\n",
    "        ├── images\n",
    "        │   └── *.jpg\n",
    "        └── labels\n",
    "            └── *.txt\n",
    "\n",
    "        \n",
    "```"
   ]
  },
  {
   "cell_type": "code",
   "execution_count": 26,
   "id": "98316489-9c06-4f95-9a39-af6620af8d98",
   "metadata": {
    "collapsed": true,
    "jupyter": {
     "outputs_hidden": true
    },
    "tags": []
   },
   "outputs": [
    {
     "name": "stdout",
     "output_type": "stream",
     "text": [
      "<All keys matched successfully>\n",
      "107355-1-b63b1abf21490f3c8e1df7cefa2cb1ef-2458x1922.jpg\n",
      "Complete\n"
     ]
    }
   ],
   "source": [
    "!python3 g_sam_hq_bbox_prompt.py \\\n",
    "  --config GroundingDINO/groundingdino/config/GroundingDINO_SwinT_OGC.py \\\n",
    "  --sam_hq_checkpoint /mnt/hq-sam/Grounded-Segment-Anything/sam_hq_vit_h.pth \\\n",
    "  --use_sam_hq \\\n",
    "  --input_image /mnt/dataset/input/images \\\n",
    "  --input_label /mnt/dataset/input/labels \\\n",
    "  --output_dir /mnt/dataset/output \\\n",
    "  --set_ins_id \"off\""
   ]
  },
  {
   "cell_type": "markdown",
   "id": "daee4bbb-3963-48cb-baed-d0a4ad0b4c0a",
   "metadata": {},
   "source": [
    "## SAM-HQ(text prompt)"
   ]
  },
  {
   "cell_type": "code",
   "execution_count": 7,
   "id": "59b7373a-2d65-4c94-a017-37f4e6fd146f",
   "metadata": {
    "collapsed": true,
    "jupyter": {
     "outputs_hidden": true
    },
    "scrolled": true,
    "tags": []
   },
   "outputs": [
    {
     "name": "stdout",
     "output_type": "stream",
     "text": [
      "/mnt/hq-sam/Grounded-Segment-Anything/GroundingDINO/groundingdino/models/GroundingDINO/ms_deform_attn.py:31: UserWarning: Failed to load custom C++ ops. Running on CPU mode Only!\n",
      "  warnings.warn(\"Failed to load custom C++ ops. Running on CPU mode Only!\")\n",
      "Traceback (most recent call last):\n",
      "  File \"g_sam_hq_text_prompt.py\", line 18, in <module>\n",
      "    from segment_anything import (\n",
      "ImportError: cannot import name 'build_sam_hq' from 'segment_anything' (/mnt/Grounded-Segment-Anything/segment_anything/segment_anything/__init__.py)\n"
     ]
    }
   ],
   "source": [
    "!python3 g_sam_hq_text_prompt.py \\\n",
    "  --config GroundingDINO/groundingdino/config/GroundingDINO_SwinT_OGC.py \\\n",
    "  --grounded_checkpoint groundingdino_swint_ogc.pth \\\n",
    "  --sam_hq_checkpoint /mnt/hq-sam/Grounded-Segment-Anything/sam_hq_vit_h.pth \\\n",
    "  --use_sam_hq \\\n",
    "  --input_image /mnt/dataset/input/images \\\n",
    "  --output_dir /mnt/dataset/output \\\n",
    "  --box_threshold 0.30 \\\n",
    "  --text_threshold 0.25 \\\n",
    "  --text_prompt \"person\" \\\n",
    "  --set_ins_id \"off\" \\\n",
    "  --cls_id 0 \\\n",
    "  --device \"cuda\""
   ]
  },
  {
   "cell_type": "code",
   "execution_count": null,
   "id": "4562b036-40f3-4851-b025-1e23f5fdb8e2",
   "metadata": {},
   "outputs": [],
   "source": []
  }
 ],
 "metadata": {
  "kernelspec": {
   "display_name": "Python 3 (ipykernel)",
   "language": "python",
   "name": "python3"
  },
  "language_info": {
   "codemirror_mode": {
    "name": "ipython",
    "version": 3
   },
   "file_extension": ".py",
   "mimetype": "text/x-python",
   "name": "python",
   "nbconvert_exporter": "python",
   "pygments_lexer": "ipython3",
   "version": "3.8.11"
  }
 },
 "nbformat": 4,
 "nbformat_minor": 5
}
