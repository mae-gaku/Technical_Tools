{
 "cells": [
  {
   "cell_type": "markdown",
   "id": "dfac5a6f-f6b4-46fe-84df-6849ff2ba24b",
   "metadata": {},
   "source": [
    "## SAM-HQ(bbox prompt)"
   ]
  },
  {
   "cell_type": "markdown",
   "id": "5bd04de2-9630-4144-a91c-ff96653feaa7",
   "metadata": {},
   "source": [
    "### directory structure\n",
    "\n",
    "```\n",
    "./dataset\n",
    "    ├── input\n",
    "    │   ├── images\n",
    "    │   │   └── *.jpg\n",
    "    │   └── labels\n",
    "    │       └── *.txt\n",
    "    └── output\n",
    "        ├── images\n",
    "        │   └── *.jpg\n",
    "        └── labels\n",
    "            └── *.txt\n",
    "\n",
    "        \n",
    "```"
   ]
  },
  {
   "cell_type": "code",
   "execution_count": null,
   "id": "98316489-9c06-4f95-9a39-af6620af8d98",
   "metadata": {
    "collapsed": true,
    "jupyter": {
     "outputs_hidden": true
    },
    "tags": []
   },
   "outputs": [],
   "source": [
    "!python3 g_sam_hq_bbox_prompt.py \\\n",
    "  --config GroundingDINO/groundingdino/config/GroundingDINO_SwinT_OGC.py \\\n",
    "  --sam_hq_checkpoint /mnt/hq-sam/Grounded-Segment-Anything/sam_hq_vit_h.pth \\\n",
    "  --use_sam_hq \\\n",
    "  --input_image  \\\n",
    "  --input_label  \\\n",
    "  --output_dir  \\\n",
    "  --set_ins_id \"off\""
   ]
  },
  {
   "cell_type": "markdown",
   "id": "daee4bbb-3963-48cb-baed-d0a4ad0b4c0a",
   "metadata": {},
   "source": [
    "## SAM-HQ(text prompt)"
   ]
  },
  {
   "cell_type": "code",
   "execution_count": null,
   "id": "59b7373a-2d65-4c94-a017-37f4e6fd146f",
   "metadata": {
    "collapsed": true,
    "jupyter": {
     "outputs_hidden": true
    },
    "scrolled": true,
    "tags": []
   },
   "outputs": [],
   "source": [
    "!python3 g_sam_hq_text_prompt.py \\\n",
    "  --config GroundingDINO/groundingdino/config/GroundingDINO_SwinT_OGC.py \\\n",
    "  --grounded_checkpoint groundingdino_swint_ogc.pth \\\n",
    "  --sam_hq_checkpoint /mnt/hq-sam/Grounded-Segment-Anything/sam_hq_vit_h.pth \\\n",
    "  --use_sam_hq \\\n",
    "  --input_image  \\\n",
    "  --output_dir  \\\n",
    "  --box_threshold 0.30 \\\n",
    "  --text_threshold 0.25 \\\n",
    "  --text_prompt \"\" \\\n",
    "  --set_ins_id \"off\" \\\n",
    "  --cls_id 0 \\\n",
    "  --device \"cuda\""
   ]
  },
  {
   "cell_type": "code",
   "execution_count": null,
   "id": "4562b036-40f3-4851-b025-1e23f5fdb8e2",
   "metadata": {},
   "outputs": [],
   "source": []
  }
 ],
 "metadata": {
  "kernelspec": {
   "display_name": "Python 3 (ipykernel)",
   "language": "python",
   "name": "python3"
  },
  "language_info": {
   "codemirror_mode": {
    "name": "ipython",
    "version": 3
   },
   "file_extension": ".py",
   "mimetype": "text/x-python",
   "name": "python",
   "nbconvert_exporter": "python",
   "pygments_lexer": "ipython3",
   "version": "3.8.11"
  }
 },
 "nbformat": 4,
 "nbformat_minor": 5
}
