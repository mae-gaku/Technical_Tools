{
 "cells": [
  {
   "cell_type": "code",
   "execution_count": 1,
   "id": "ff075f5c",
   "metadata": {},
   "outputs": [],
   "source": [
    "import glob\n",
    "import os\n",
    "import random"
   ]
  },
  {
   "cell_type": "code",
   "execution_count": 8,
   "id": "4da5542e-fbad-4d58-957d-d9e44a77dac1",
   "metadata": {},
   "outputs": [],
   "source": [
    "import zipfile\n",
    "import os\n",
    "\n",
    "def zip_folder(folder_path, output_path):\n",
    "    with zipfile.ZipFile(output_path, 'w', zipfile.ZIP_DEFLATED) as zip:\n",
    "        for root, dirs, files in os.walk(folder_path):\n",
    "            for file in files:\n",
    "                zip.write(os.path.join(root, file))\n",
    "\n",
    "folder_path = '/mnt/dataset/output'\n",
    "output_path = '/mnt/output.zip'\n",
    "\n",
    "zip_folder(folder_path, output_path)\n"
   ]
  },
  {
   "cell_type": "code",
   "execution_count": 6,
   "id": "5be7c5c5-5dc0-4711-ae94-8ea77f1fc88a",
   "metadata": {},
   "outputs": [
    {
     "name": "stdout",
     "output_type": "stream",
     "text": [
      "/mnt/dataset\n"
     ]
    }
   ],
   "source": [
    "%cd /mnt/dataset"
   ]
  },
  {
   "cell_type": "code",
   "execution_count": 7,
   "id": "ce6418af-e8b4-4df2-b7e9-c8cd4979a930",
   "metadata": {
    "tags": []
   },
   "outputs": [],
   "source": [
    "import zipfile\n",
    "with zipfile.ZipFile('/mnt/person_with_helmet_v4.zip','r') as inputFile:\n",
    "    inputFile.extractall()"
   ]
  },
  {
   "cell_type": "code",
   "execution_count": 72,
   "id": "0dfb85b6-45ab-4b70-a57f-12dee95ee232",
   "metadata": {},
   "outputs": [
    {
     "name": "stdout",
     "output_type": "stream",
     "text": [
      "/mnt/Grounded-Segment-Anything\n"
     ]
    }
   ],
   "source": [
    "%cd /mnt/Grounded-Segment-Anything"
   ]
  },
  {
   "cell_type": "code",
   "execution_count": 54,
   "id": "7f664373",
   "metadata": {
    "scrolled": true,
    "tags": []
   },
   "outputs": [
    {
     "name": "stdout",
     "output_type": "stream",
     "text": [
      "['27327113246000712ad042', '2732711236a000e7524e84', '273271118910008d823f61', '27327112ba800097883475', '273271128e30009deaa60c', '273271130b000028458ffc', '2732711261a0009930d51b', '273271135a5000d155754b', '27327112c170004bd53807', '27327112822000b1291a69', '27327110f400006b6fb935', '27327112ccf00065c5c4ec', '273271104ec00067d5b782', '27327113d43000e395817c']\n"
     ]
    }
   ],
   "source": [
    "files = os.listdir(\"/mnt/yolov5/0/labels\")\n",
    "up_file_name = []\n",
    "for file in files:\n",
    "    basename_without= os.path.splitext(os.path.basename(file))[0]\n",
    "    \n",
    "    up_file_name.append(basename_without)\n",
    "    \n",
    "print(up_file_name)"
   ]
  },
  {
   "cell_type": "code",
   "execution_count": 55,
   "id": "7ede05ab",
   "metadata": {},
   "outputs": [],
   "source": [
    "from sklearn.model_selection import train_test_split"
   ]
  },
  {
   "cell_type": "code",
   "execution_count": 56,
   "id": "6e0e758f",
   "metadata": {},
   "outputs": [
    {
     "name": "stdout",
     "output_type": "stream",
     "text": [
      "Requirement already satisfied: scikit-learn in /usr/local/lib/python3.8/site-packages (1.2.1)\n",
      "Requirement already satisfied: joblib>=1.1.1 in /usr/local/lib/python3.8/site-packages (from scikit-learn) (1.2.0)\n",
      "Requirement already satisfied: threadpoolctl>=2.0.0 in /usr/local/lib/python3.8/site-packages (from scikit-learn) (3.1.0)\n",
      "Requirement already satisfied: numpy>=1.17.3 in /usr/local/lib/python3.8/site-packages (from scikit-learn) (1.22.4)\n",
      "Requirement already satisfied: scipy>=1.3.2 in /usr/local/lib/python3.8/site-packages (from scikit-learn) (1.7.3)\n",
      "\u001b[33mWARNING: Running pip as the 'root' user can result in broken permissions and conflicting behaviour with the system package manager. It is recommended to use a virtual environment instead: https://pip.pypa.io/warnings/venv\u001b[0m\u001b[33m\n",
      "\u001b[0m\n",
      "\u001b[1m[\u001b[0m\u001b[34;49mnotice\u001b[0m\u001b[1;39;49m]\u001b[0m\u001b[39;49m A new release of pip is available: \u001b[0m\u001b[31;49m23.0\u001b[0m\u001b[39;49m -> \u001b[0m\u001b[32;49m23.1.2\u001b[0m\n",
      "\u001b[1m[\u001b[0m\u001b[34;49mnotice\u001b[0m\u001b[1;39;49m]\u001b[0m\u001b[39;49m To update, run: \u001b[0m\u001b[32;49mpip install --upgrade pip\u001b[0m\n"
     ]
    }
   ],
   "source": [
    "!pip install scikit-learn"
   ]
  },
  {
   "cell_type": "code",
   "execution_count": 57,
   "id": "5639596a",
   "metadata": {},
   "outputs": [],
   "source": [
    "files_train,files_test = train_test_split(files, test_size=0.2)"
   ]
  },
  {
   "cell_type": "code",
   "execution_count": 58,
   "id": "74adf089",
   "metadata": {},
   "outputs": [
    {
     "name": "stdout",
     "output_type": "stream",
     "text": [
      "11\n",
      "---\n",
      "3\n"
     ]
    }
   ],
   "source": [
    "print(len(files_train))\n",
    "print(\"---\")\n",
    "print(len(files_test))"
   ]
  },
  {
   "cell_type": "code",
   "execution_count": 59,
   "id": "bce10c09",
   "metadata": {
    "scrolled": true,
    "tags": []
   },
   "outputs": [
    {
     "name": "stdout",
     "output_type": "stream",
     "text": [
      "['27327112822000b1291a69', '27327113246000712ad042', '2732711236a000e7524e84', '27327110f400006b6fb935', '273271104ec00067d5b782', '273271135a5000d155754b', '27327113d43000e395817c', '273271130b000028458ffc', '27327112ccf00065c5c4ec', '2732711261a0009930d51b', '27327112ba800097883475']\n",
      "-----\n",
      "11\n"
     ]
    }
   ],
   "source": [
    "train_file_name = []\n",
    "for file in files_train:\n",
    "    basename_without= os.path.splitext(os.path.basename(file))[0]\n",
    "    \n",
    "    train_file_name.append(basename_without)\n",
    "    \n",
    "print(train_file_name)\n",
    "print(\"-----\")\n",
    "print(len(train_file_name))"
   ]
  },
  {
   "cell_type": "code",
   "execution_count": 60,
   "id": "6e93bd71",
   "metadata": {
    "scrolled": true,
    "tags": []
   },
   "outputs": [
    {
     "name": "stdout",
     "output_type": "stream",
     "text": [
      "['273271118910008d823f61', '27327112c170004bd53807', '273271128e30009deaa60c']\n",
      "-----\n",
      "3\n"
     ]
    }
   ],
   "source": [
    "valid_file_name = []\n",
    "for file in files_test:\n",
    "    basename_without= os.path.splitext(os.path.basename(file))[0]\n",
    "    \n",
    "    valid_file_name.append(basename_without)\n",
    "    \n",
    "print(valid_file_name)\n",
    "print(\"-----\")\n",
    "print(len(valid_file_name))"
   ]
  },
  {
   "cell_type": "code",
   "execution_count": 61,
   "id": "c4eb96a3",
   "metadata": {
    "scrolled": true,
    "tags": []
   },
   "outputs": [
    {
     "name": "stdout",
     "output_type": "stream",
     "text": [
      "['27327112822000b1291a69.jpg', '27327113246000712ad042.jpg', '2732711236a000e7524e84.jpg', '27327110f400006b6fb935.jpg', '273271104ec00067d5b782.jpg', '273271135a5000d155754b.jpg', '27327113d43000e395817c.jpg', '273271130b000028458ffc.jpg', '27327112ccf00065c5c4ec.jpg', '2732711261a0009930d51b.jpg', '27327112ba800097883475.jpg']\n",
      "['27327112822000b1291a69.txt', '27327113246000712ad042.txt', '2732711236a000e7524e84.txt', '27327110f400006b6fb935.txt', '273271104ec00067d5b782.txt', '273271135a5000d155754b.txt', '27327113d43000e395817c.txt', '273271130b000028458ffc.txt', '27327112ccf00065c5c4ec.txt', '2732711261a0009930d51b.txt', '27327112ba800097883475.txt']\n"
     ]
    }
   ],
   "source": [
    "train_jpg = []\n",
    "train_txt = []\n",
    "\n",
    "\n",
    "for file_name in train_file_name:\n",
    "    \n",
    "    jpg = file_name + \".jpg\"\n",
    "    \n",
    "    train_jpg.append(jpg)\n",
    "    \n",
    "    txt = file_name + \".txt\"\n",
    "    \n",
    "    train_txt.append(txt)\n",
    "    \n",
    "print(train_jpg)\n",
    "print(train_txt)\n",
    "    "
   ]
  },
  {
   "cell_type": "code",
   "execution_count": 62,
   "id": "d3095297",
   "metadata": {
    "scrolled": true,
    "tags": []
   },
   "outputs": [
    {
     "name": "stdout",
     "output_type": "stream",
     "text": [
      "['273271118910008d823f61.jpg', '27327112c170004bd53807.jpg', '273271128e30009deaa60c.jpg']\n",
      "['273271118910008d823f61.txt', '27327112c170004bd53807.txt', '273271128e30009deaa60c.txt']\n"
     ]
    }
   ],
   "source": [
    "valid_jpg = []\n",
    "valid_txt = []\n",
    "\n",
    "\n",
    "for file_name in valid_file_name:\n",
    "    \n",
    "    jpg = file_name + \".jpg\"\n",
    "    \n",
    "    valid_jpg.append(jpg)\n",
    "    \n",
    "    txt = file_name + \".txt\"\n",
    "    \n",
    "    valid_txt.append(txt)\n",
    "    \n",
    "print(valid_jpg)\n",
    "print(valid_txt)"
   ]
  },
  {
   "cell_type": "code",
   "execution_count": 63,
   "id": "53942bd3",
   "metadata": {},
   "outputs": [],
   "source": [
    "import shutil\n",
    "\n",
    "valid_jpg = []\n",
    "valid_txt = []\n",
    "image_dir = \"/mnt/yolov5/0/images/\"\n",
    "txt_dir = \"/mnt/yolov5/0/labels/\"\n",
    "\n",
    "for file_name in train_file_name:\n",
    "    \n",
    "    jpg = image_dir + file_name + \".jpg\"\n",
    "    \n",
    "    shutil.copy(jpg,\"/mnt/yolov5/dataset/train/images\")\n",
    "    \n",
    "    #train_jpg.append(jpg)\n",
    "    \n",
    "    txt = txt_dir + file_name + \".txt\"\n",
    "    \n",
    "    shutil.copy(txt,\"/mnt/yolov5/dataset/train/labels\")\n",
    "    \n",
    "    #train_txt.append(txt)\n",
    "    \n",
    "for file_name in valid_file_name:\n",
    "    \n",
    "    jpg = image_dir + file_name + \".jpg\"\n",
    "    \n",
    "    shutil.copy(jpg,\"/mnt/yolov5/dataset/valid/images\")\n",
    "    \n",
    "    #train_jpg.append(jpg)\n",
    "    \n",
    "    txt = txt_dir + file_name + \".txt\"\n",
    "    \n",
    "    shutil.copy(txt,\"/mnt/yolov5/dataset/valid/labels\")\n",
    "    \n",
    "    #train_txt.append(txt)"
   ]
  },
  {
   "cell_type": "code",
   "execution_count": 61,
   "id": "82739958",
   "metadata": {},
   "outputs": [],
   "source": [
    "import os\n",
    "import glob\n",
    "from pathlib import Path"
   ]
  },
  {
   "cell_type": "code",
   "execution_count": null,
   "id": "7a11c156",
   "metadata": {},
   "outputs": [],
   "source": []
  }
 ],
 "metadata": {
  "interpreter": {
   "hash": "8403e6df0210a97888a1432a13638551659065eade8ac5aa96eca7de046eefdf"
  },
  "kernelspec": {
   "display_name": "Python 3 (ipykernel)",
   "language": "python",
   "name": "python3"
  },
  "language_info": {
   "codemirror_mode": {
    "name": "ipython",
    "version": 3
   },
   "file_extension": ".py",
   "mimetype": "text/x-python",
   "name": "python",
   "nbconvert_exporter": "python",
   "pygments_lexer": "ipython3",
   "version": "3.8.11"
  }
 },
 "nbformat": 4,
 "nbformat_minor": 5
}
