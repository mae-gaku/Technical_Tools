{
 "cells": [
  {
   "cell_type": "markdown",
   "id": "14516cd6-0074-448e-aeb7-13dde2992713",
   "metadata": {
    "tags": []
   },
   "source": [
    "## Start Auto labeling (text prompt)\n"
   ]
  },
  {
   "cell_type": "markdown",
   "id": "e99859ba-72b1-4350-a37e-574bde4b7e46",
   "metadata": {},
   "source": [
    "### directory structure\n",
    "\n",
    "```\n",
    "./dataset\n",
    "    ├── input\n",
    "    │   ├── images\n",
    "    │       └── *.jpg\n",
    "    └── output\n",
    "        ├── images\n",
    "        │   └── *.jpg\n",
    "        └── labels\n",
    "            └── *.txt\n",
    "\n",
    "        \n",
    "```"
   ]
  },
  {
   "cell_type": "markdown",
   "id": "e6f65d8a-98a6-4b7c-9c9d-5baeda6d3e72",
   "metadata": {},
   "source": [
    "**--input_image:** Folder path of images\n",
    "\n",
    "**--output_dir:** Folder path of output annotation data\n",
    "\n",
    "**--text_prompt :** Name of the object to be detected\n",
    "\n",
    "**--set_ins_id:** The format of annotation data can be changed.(Whether to have instance IDs (\"on\") or to combine multiple polygons (\"off\"))\n",
    "\n",
    "**--cls_id:** Setting the class id"
   ]
  },
  {
   "cell_type": "code",
   "execution_count": null,
   "id": "a7dfa030-559e-4065-9b8e-434d91e5d800",
   "metadata": {
    "scrolled": true,
    "tags": []
   },
   "outputs": [],
   "source": [
    "!python3 text_prompt.py --config GroundingDINO/groundingdino/config/GroundingDINO_SwinT_OGC.py \\\n",
    "         --grounded_checkpoint groundingdino_swint_ogc.pth --sam_checkpoint sam_vit_h_4b8939.pth \\\n",
    "         --input_image  \\\n",
    "         --output_dir  \\\n",
    "         --box_threshold 0.30 \\\n",
    "         --text_threshold 0.25 \\\n",
    "         --text_prompt \"\" \\\n",
    "         --set_ins_id \"off\" \\\n",
    "         --cls_id 0 \\\n",
    "         --device \"cuda\""
   ]
  },
  {
   "cell_type": "markdown",
   "id": "8e2d1a04-0fbb-4d44-828c-8e6b0efb0b14",
   "metadata": {},
   "source": []
  },
  {
   "cell_type": "markdown",
   "id": "1b3f66f9-e6ca-484f-b582-4c4db03e26f9",
   "metadata": {},
   "source": [
    "## Only OD auto labeling"
   ]
  },
  {
   "cell_type": "code",
   "execution_count": null,
   "id": "04bb7721-cbc7-4716-89e7-244e5b19af06",
   "metadata": {
    "scrolled": true,
    "tags": []
   },
   "outputs": [],
   "source": [
    "!python3 text_prompt_ob.py --config GroundingDINO/groundingdino/config/GroundingDINO_SwinT_OGC.py \\\n",
    "         --grounded_checkpoint groundingdino_swint_ogc.pth \\\n",
    "         --input_image \\\n",
    "         --output_dir  \\\n",
    "         --box_threshold 0.30 \\\n",
    "         --text_threshold 0.25 \\\n",
    "         --text_prompt \"\" \\\n",
    "         --cls_id 0 \\\n",
    "         --device \"cuda\""
   ]
  },
  {
   "cell_type": "code",
   "execution_count": null,
   "id": "86676e63-e8c3-4e86-8b45-d7d702ea300f",
   "metadata": {},
   "outputs": [],
   "source": []
  }
 ],
 "metadata": {
  "kernelspec": {
   "display_name": "Python 3 (ipykernel)",
   "language": "python",
   "name": "python3"
  },
  "language_info": {
   "codemirror_mode": {
    "name": "ipython",
    "version": 3
   },
   "file_extension": ".py",
   "mimetype": "text/x-python",
   "name": "python",
   "nbconvert_exporter": "python",
   "pygments_lexer": "ipython3",
   "version": "3.8.11"
  }
 },
 "nbformat": 4,
 "nbformat_minor": 5
}
