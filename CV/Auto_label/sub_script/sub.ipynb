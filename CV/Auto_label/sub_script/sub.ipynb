{
 "cells": [
  {
   "cell_type": "code",
   "execution_count": null,
   "id": "d0037619-a9dd-4283-b665-6beec8e27fd3",
   "metadata": {},
   "outputs": [],
   "source": [
    "%cd /mnt/dataset"
   ]
  },
  {
   "cell_type": "code",
   "execution_count": null,
   "id": "602f226c-c417-41e4-bba6-3c6de6ba17d7",
   "metadata": {},
   "outputs": [],
   "source": [
    "%cd /mnt"
   ]
  },
  {
   "cell_type": "code",
   "execution_count": 7,
   "id": "01104894-34ed-403c-9225-1fda2ce0b31e",
   "metadata": {
    "tags": []
   },
   "outputs": [],
   "source": [
    "import zipfile\n",
    "with zipfile.ZipFile('','r') as inputFile:\n",
    "    inputFile.extractall()"
   ]
  },
  {
   "cell_type": "code",
   "execution_count": null,
   "id": "ee7d5e15-daa1-4f33-9a11-e22a4e67b060",
   "metadata": {},
   "outputs": [],
   "source": [
    "import zipfile\n",
    "import os\n",
    "\n",
    "def zip_folder(folder_path, output_path):\n",
    "    with zipfile.ZipFile(output_path, 'w', zipfile.ZIP_DEFLATED) as zip:\n",
    "        for root, dirs, files in os.walk(folder_path):\n",
    "            for file in files:\n",
    "                zip.write(os.path.join(root, file))\n",
    "\n",
    "folder_path = ''\n",
    "output_path = ''\n",
    "\n",
    "zip_folder(folder_path, output_path)\n"
   ]
  },
  {
   "cell_type": "code",
   "execution_count": 3,
   "id": "df6f0cbf-eccc-44fe-ae3e-a21e8551a5b2",
   "metadata": {},
   "outputs": [
    {
     "name": "stdout",
     "output_type": "stream",
     "text": [
      "1035\n",
      "1035\n"
     ]
    }
   ],
   "source": [
    "import glob\n",
    "import os\n",
    "import shutil\n",
    "\n",
    "img_dir = \"\"\n",
    "label_dir = \"\"\n",
    "\n",
    "images = glob.glob(f\"{img_dir}/*\")\n",
    "labels = glob.glob(f\"{label_dir}/*\")\n",
    "\n",
    "print(len(images))\n",
    "print(len(labels))\n"
   ]
  }
 ],
 "metadata": {
  "kernelspec": {
   "display_name": "Python 3 (ipykernel)",
   "language": "python",
   "name": "python3"
  },
  "language_info": {
   "codemirror_mode": {
    "name": "ipython",
    "version": 3
   },
   "file_extension": ".py",
   "mimetype": "text/x-python",
   "name": "python",
   "nbconvert_exporter": "python",
   "pygments_lexer": "ipython3",
   "version": "3.8.11"
  }
 },
 "nbformat": 4,
 "nbformat_minor": 5
}
