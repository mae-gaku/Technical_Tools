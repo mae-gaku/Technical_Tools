{
 "cells": [
  {
   "cell_type": "code",
   "execution_count": 1,
   "id": "d0037619-a9dd-4283-b665-6beec8e27fd3",
   "metadata": {},
   "outputs": [
    {
     "name": "stdout",
     "output_type": "stream",
     "text": [
      "/mnt/dataset\n"
     ]
    }
   ],
   "source": [
    "%cd /mnt/dataset"
   ]
  },
  {
   "cell_type": "code",
   "execution_count": 2,
   "id": "01104894-34ed-403c-9225-1fda2ce0b31e",
   "metadata": {},
   "outputs": [],
   "source": [
    "import zipfile\n",
    "with zipfile.ZipFile('/mnt/person_with_helmet_v5_1.zip','r') as inputFile:\n",
    "    inputFile.extractall()"
   ]
  },
  {
   "cell_type": "code",
   "execution_count": null,
   "id": "ee7d5e15-daa1-4f33-9a11-e22a4e67b060",
   "metadata": {},
   "outputs": [],
   "source": [
    "import zipfile\n",
    "import os\n",
    "\n",
    "def zip_folder(folder_path, output_path):\n",
    "    with zipfile.ZipFile(output_path, 'w', zipfile.ZIP_DEFLATED) as zip:\n",
    "        for root, dirs, files in os.walk(folder_path):\n",
    "            for file in files:\n",
    "                zip.write(os.path.join(root, file))\n",
    "\n",
    "folder_path = '/mnt/dataset/output'\n",
    "output_path = '/mnt/output.zip'\n",
    "\n",
    "zip_folder(folder_path, output_path)\n"
   ]
  },
  {
   "cell_type": "code",
   "execution_count": null,
   "id": "df6f0cbf-eccc-44fe-ae3e-a21e8551a5b2",
   "metadata": {},
   "outputs": [],
   "source": []
  },
  {
   "cell_type": "code",
   "execution_count": null,
   "id": "32bff5dc-0d91-486e-8207-6ef84b69e9f0",
   "metadata": {},
   "outputs": [],
   "source": []
  }
 ],
 "metadata": {
  "kernelspec": {
   "display_name": "Python 3 (ipykernel)",
   "language": "python",
   "name": "python3"
  },
  "language_info": {
   "codemirror_mode": {
    "name": "ipython",
    "version": 3
   },
   "file_extension": ".py",
   "mimetype": "text/x-python",
   "name": "python",
   "nbconvert_exporter": "python",
   "pygments_lexer": "ipython3",
   "version": "3.8.11"
  }
 },
 "nbformat": 4,
 "nbformat_minor": 5
}
