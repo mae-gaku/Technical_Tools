{
 "cells": [
  {
   "cell_type": "markdown",
   "id": "14516cd6-0074-448e-aeb7-13dde2992713",
   "metadata": {
    "tags": []
   },
   "source": [
    "## Start Auto labeling (text prompt)\n"
   ]
  },
  {
   "cell_type": "markdown",
   "id": "e99859ba-72b1-4350-a37e-574bde4b7e46",
   "metadata": {},
   "source": [
    "### directory structure\n",
    "\n",
    "```\n",
    "./dataset\n",
    "    ├── input\n",
    "    │   ├── images\n",
    "    │       └── *.jpg\n",
    "    └── output\n",
    "        ├── images\n",
    "        │   └── *.jpg\n",
    "        └── labels\n",
    "            └── *.txt\n",
    "\n",
    "        \n",
    "```"
   ]
  },
  {
   "cell_type": "markdown",
   "id": "e6f65d8a-98a6-4b7c-9c9d-5baeda6d3e72",
   "metadata": {},
   "source": [
    "**--input_image:** Folder path of images\n",
    "\n",
    "**--output_dir:** Folder path of output annotation data\n",
    "\n",
    "**--text_prompt :** Name of the object to be detected\n",
    "\n",
    "**--set_ins_id:** The format of annotation data can be changed.(Whether to have instance IDs (\"on\") or to combine multiple polygons (\"off\"))\n",
    "\n",
    "**--cls_id:** Setting the class id"
   ]
  },
  {
   "cell_type": "code",
   "execution_count": 53,
   "id": "a7dfa030-559e-4065-9b8e-434d91e5d800",
   "metadata": {
    "scrolled": true,
    "tags": []
   },
   "outputs": [
    {
     "name": "stdout",
     "output_type": "stream",
     "text": [
      "/mnt/Grounded-Segment-Anything/GroundingDINO/groundingdino/models/GroundingDINO/ms_deform_attn.py:31: UserWarning: Failed to load custom C++ ops. Running on CPU mode Only!\n",
      "  warnings.warn(\"Failed to load custom C++ ops. Running on CPU mode Only!\")\n",
      "/usr/local/lib/python3.8/site-packages/torch/functional.py:445: UserWarning: torch.meshgrid: in an upcoming release, it will be required to pass the indexing argument. (Triggered internally at  ../aten/src/ATen/native/TensorShape.cpp:2157.)\n",
      "  return _VF.meshgrid(tensors, **kwargs)  # type: ignore[attr-defined]\n",
      "final text_encoder_type: bert-base-uncased\n",
      "Some weights of the model checkpoint at bert-base-uncased were not used when initializing BertModel: ['cls.predictions.transform.dense.bias', 'cls.predictions.bias', 'cls.seq_relationship.weight', 'cls.predictions.transform.dense.weight', 'cls.predictions.transform.LayerNorm.weight', 'cls.seq_relationship.bias', 'cls.predictions.transform.LayerNorm.bias']\n",
      "- This IS expected if you are initializing BertModel from the checkpoint of a model trained on another task or with another architecture (e.g. initializing a BertForSequenceClassification model from a BertForPreTraining model).\n",
      "- This IS NOT expected if you are initializing BertModel from the checkpoint of a model that you expect to be exactly identical (initializing a BertForSequenceClassification model from a BertForSequenceClassification model).\n",
      "_IncompatibleKeys(missing_keys=[], unexpected_keys=['label_enc.weight'])\n",
      "complete model load\n",
      "basename 107355-1-b63b1abf21490f3c8e1df7cefa2cb1ef-2458x1922.jpg\n",
      "/usr/local/lib/python3.8/site-packages/transformers/modeling_utils.py:884: FutureWarning: The `device` argument is deprecated and will be removed in v5 of Transformers.\n",
      "  warnings.warn(\n",
      "/usr/local/lib/python3.8/site-packages/torch/utils/checkpoint.py:25: UserWarning: None of the inputs have requires_grad=True. Gradients will be None\n",
      "  warnings.warn(\"None of the inputs have requires_grad=True. Gradients will be None\")\n",
      "time: 2.2249999046325684\n",
      "basename 5247.jpg\n",
      "time: 2.158686876296997\n",
      "basename images (1).jpg\n",
      "time: 2.166928291320801\n"
     ]
    }
   ],
   "source": [
    "!python3 text_prompt.py --config GroundingDINO/groundingdino/config/GroundingDINO_SwinT_OGC.py \\\n",
    "         --grounded_checkpoint groundingdino_swint_ogc.pth --sam_checkpoint sam_vit_h_4b8939.pth \\\n",
    "         --input_image /mnt/dataset/input/images \\\n",
    "         --output_dir /mnt/dataset/output \\\n",
    "         --box_threshold 0.30 \\\n",
    "         --text_threshold 0.25 \\\n",
    "         --text_prompt \"racket\" \\\n",
    "         --set_ins_id \"off\" \\\n",
    "         --cls_id 0 \\\n",
    "         --device \"cpu\""
   ]
  },
  {
   "cell_type": "code",
   "execution_count": 52,
   "id": "693cae8e-c7f8-4de6-9f75-504ac1d6daaf",
   "metadata": {},
   "outputs": [],
   "source": [
    "!rm -rf /mnt/dataset/output"
   ]
  },
  {
   "cell_type": "markdown",
   "id": "8e2d1a04-0fbb-4d44-828c-8e6b0efb0b14",
   "metadata": {},
   "source": []
  },
  {
   "cell_type": "markdown",
   "id": "1b3f66f9-e6ca-484f-b582-4c4db03e26f9",
   "metadata": {},
   "source": [
    "## Only OD auto labeling"
   ]
  },
  {
   "cell_type": "code",
   "execution_count": 36,
   "id": "04bb7721-cbc7-4716-89e7-244e5b19af06",
   "metadata": {
    "scrolled": true,
    "tags": []
   },
   "outputs": [
    {
     "name": "stdout",
     "output_type": "stream",
     "text": [
      "/mnt/Grounded-Segment-Anything/GroundingDINO/groundingdino/models/GroundingDINO/ms_deform_attn.py:31: UserWarning: Failed to load custom C++ ops. Running on CPU mode Only!\n",
      "  warnings.warn(\"Failed to load custom C++ ops. Running on CPU mode Only!\")\n",
      "/usr/local/lib/python3.8/site-packages/torch/functional.py:445: UserWarning: torch.meshgrid: in an upcoming release, it will be required to pass the indexing argument. (Triggered internally at  ../aten/src/ATen/native/TensorShape.cpp:2157.)\n",
      "  return _VF.meshgrid(tensors, **kwargs)  # type: ignore[attr-defined]\n",
      "final text_encoder_type: bert-base-uncased\n",
      "Some weights of the model checkpoint at bert-base-uncased were not used when initializing BertModel: ['cls.seq_relationship.bias', 'cls.predictions.transform.dense.weight', 'cls.predictions.transform.LayerNorm.weight', 'cls.predictions.bias', 'cls.seq_relationship.weight', 'cls.predictions.transform.dense.bias', 'cls.predictions.transform.LayerNorm.bias']\n",
      "- This IS expected if you are initializing BertModel from the checkpoint of a model trained on another task or with another architecture (e.g. initializing a BertForSequenceClassification model from a BertForPreTraining model).\n",
      "- This IS NOT expected if you are initializing BertModel from the checkpoint of a model that you expect to be exactly identical (initializing a BertForSequenceClassification model from a BertForSequenceClassification model).\n",
      "_IncompatibleKeys(missing_keys=[], unexpected_keys=['label_enc.weight'])\n",
      "basename 2732755f5050003ea4e230.jpg\n",
      "/usr/local/lib/python3.8/site-packages/transformers/modeling_utils.py:884: FutureWarning: The `device` argument is deprecated and will be removed in v5 of Transformers.\n",
      "  warnings.warn(\n",
      "/usr/local/lib/python3.8/site-packages/torch/utils/checkpoint.py:25: UserWarning: None of the inputs have requires_grad=True. Gradients will be None\n",
      "  warnings.warn(\"None of the inputs have requires_grad=True. Gradients will be None\")\n",
      "basename 2732756bb350009f8e93f6.jpg\n",
      "basename 273275a22dc000cd21038b.jpg\n",
      "basename 273278a040d00022e27ce7.jpg\n",
      "basename 273278aff2f0001d78a094.jpg\n",
      "basename 273278c88e10004d04d198.jpg\n",
      "basename 284193ac3b000262aa441.jpg\n",
      "basename 284193f26e000faa521dc.jpg\n"
     ]
    }
   ],
   "source": [
    "!python3 text_prompt_ob.py --config GroundingDINO/groundingdino/config/GroundingDINO_SwinT_OGC.py \\\n",
    "         --grounded_checkpoint groundingdino_swint_ogc.pth \\\n",
    "         --input_image /mnt/dataset/input/images1 \\\n",
    "         --output_dir /mnt/dataset/output \\\n",
    "         --box_threshold 0.30 \\\n",
    "         --text_threshold 0.25 \\\n",
    "         --text_prompt \"person\" \\\n",
    "         --cls_id 0 \\\n",
    "         --device \"cuda\""
   ]
  },
  {
   "cell_type": "code",
   "execution_count": null,
   "id": "86676e63-e8c3-4e86-8b45-d7d702ea300f",
   "metadata": {},
   "outputs": [],
   "source": []
  }
 ],
 "metadata": {
  "kernelspec": {
   "display_name": "Python 3 (ipykernel)",
   "language": "python",
   "name": "python3"
  },
  "language_info": {
   "codemirror_mode": {
    "name": "ipython",
    "version": 3
   },
   "file_extension": ".py",
   "mimetype": "text/x-python",
   "name": "python",
   "nbconvert_exporter": "python",
   "pygments_lexer": "ipython3",
   "version": "3.8.11"
  }
 },
 "nbformat": 4,
 "nbformat_minor": 5
}
