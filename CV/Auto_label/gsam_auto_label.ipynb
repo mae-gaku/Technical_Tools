{
 "cells": [
  {
   "cell_type": "markdown",
   "id": "14516cd6-0074-448e-aeb7-13dde2992713",
   "metadata": {
    "tags": []
   },
   "source": [
    "## Start Auto labeling (bbox prompt)\n"
   ]
  },
  {
   "cell_type": "markdown",
   "id": "e99859ba-72b1-4350-a37e-574bde4b7e46",
   "metadata": {},
   "source": [
    "### directory structure\n",
    "\n",
    "```\n",
    "./dataset\n",
    "    ├── input\n",
    "    │   ├── images\n",
    "    │   │   └── *.jpg\n",
    "    │   └── labels\n",
    "    │       └── *.txt\n",
    "    └── output\n",
    "        ├── images\n",
    "        │   └── *.jpg\n",
    "        └── labels\n",
    "            └── *.txt\n",
    "\n",
    "        \n",
    "```"
   ]
  },
  {
   "cell_type": "markdown",
   "id": "e6f65d8a-98a6-4b7c-9c9d-5baeda6d3e72",
   "metadata": {},
   "source": [
    "**--input_image:** Folder path of images\n",
    "\n",
    "**--input_label:** Folder path of labels\n",
    "\n",
    "**--output_dir:** Folder path of output annotation data\n",
    "\n",
    "**--set_ins_id:** The format of annotation data can be changed.(Whether to have instance IDs (\"on\") or to combine multiple polygons (\"off\"))"
   ]
  },
  {
   "cell_type": "code",
   "execution_count": null,
   "id": "54f492f0-f8bb-48f6-8e7a-79ecffdceb63",
   "metadata": {
    "scrolled": true,
    "tags": []
   },
   "outputs": [],
   "source": [
    "!python3 bbox_prompt.py --config GroundingDINO/groundingdino/config/GroundingDINO_SwinT_OGC.py \\\n",
    "         --grounded_checkpoint groundingdino_swint_ogc.pth --sam_checkpoint sam_vit_h_4b8939.pth \\\n",
    "         --input_image  \\\n",
    "         --input_label  \\\n",
    "         --output_dir \\\n",
    "         --set_ins_id \"off\" \\\n",
    "         --device \"cuda\""
   ]
  },
  {
   "cell_type": "code",
   "execution_count": 14,
   "id": "5f9a2be2-76e8-43d4-bbba-9adebd006b9a",
   "metadata": {},
   "outputs": [],
   "source": [
    "DATASET_ROOT_DIR = \"\"\n",
    "DATASET_NAME = \"\"\n",
    "DATASET_DIR = f\"{DATASET_ROOT_DIR}/{DATASET_NAME}\"\n",
    "\n",
    "!python3 bbox_prompt.py --config GroundingDINO/groundingdino/config/GroundingDINO_SwinT_OGC.py \\\n",
    "         --grounded_checkpoint groundingdino_swint_ogc.pth --sam_checkpoint sam_vit_h_4b8939.pth \\\n",
    "         --input_image f\"{DATASET_DIR}/images\" \\\n",
    "         --input_label f\"{DATASET_DIR}/labels\" \\\n",
    "         --output_dir /mnt/dataset/output \\\n",
    "         --set_ins_id \"off\" \\\n",
    "         --device \"cuda\""
   ]
  },
  {
   "cell_type": "markdown",
   "id": "dfc606c5-1d32-4b8c-b453-e05b4ed90a70",
   "metadata": {},
   "source": [
    "## Start Auto labeling (text prompt)\n"
   ]
  },
  {
   "cell_type": "markdown",
   "id": "079afe5d-58e9-4e67-898e-6ebcb45fc5f2",
   "metadata": {},
   "source": [
    "### directory structure\n",
    "\n",
    "```\n",
    "./dataset\n",
    "    ├── input\n",
    "    │   ├── images\n",
    "    │       └── *.jpg\n",
    "    └── output\n",
    "        ├── images\n",
    "        │   └── *.jpg\n",
    "        └── labels\n",
    "            └── *.txt\n",
    "\n",
    "        \n",
    "```"
   ]
  },
  {
   "cell_type": "markdown",
   "id": "87e9fbf6-91b7-4be0-a71f-a43b7a9a3228",
   "metadata": {},
   "source": [
    "**--input_image:** Folder path of images\n",
    "\n",
    "**--output_dir:** Folder path of output annotation data\n",
    "\n",
    "**--text_prompt :** Name of the object to be detected\n",
    "\n",
    "**--set_ins_id:** The format of annotation data can be changed.(Whether to have instance IDs (\"on\") or to combine multiple polygons (\"off\"))\n",
    "\n",
    "**--cls_id:** Setting the class id"
   ]
  },
  {
   "cell_type": "code",
   "execution_count": null,
   "id": "055207eb-070f-457a-bf53-b2c842cc3501",
   "metadata": {
    "scrolled": true,
    "tags": []
   },
   "outputs": [],
   "source": [
    "!python3 text_prompt.py --config GroundingDINO/groundingdino/config/GroundingDINO_SwinT_OGC.py \\\n",
    "         --grounded_checkpoint groundingdino_swint_ogc.pth --sam_checkpoint sam_vit_h_4b8939.pth \\\n",
    "         --input_image  \\\n",
    "         --output_dir  \\\n",
    "         --box_threshold 0.30 \\\n",
    "         --text_threshold 0.25 \\\n",
    "         --text_prompt \"\" \\\n",
    "         --set_ins_id \"off\" \\\n",
    "         --cls_id 0 \\\n",
    "         --device \"cuda\""
   ]
  },
  {
   "cell_type": "markdown",
   "id": "3bba6a9c-f613-46e5-ba77-497fab59e1fc",
   "metadata": {},
   "source": [
    "## Only OD auto labeling"
   ]
  },
  {
   "cell_type": "code",
   "execution_count": null,
   "id": "3ea7f9e3-d1fa-443d-bcf6-271f3ddcbe8f",
   "metadata": {
    "scrolled": true,
    "tags": []
   },
   "outputs": [],
   "source": [
    "!python3 text_prompt_ob.py --config GroundingDINO/groundingdino/config/GroundingDINO_SwinT_OGC.py \\\n",
    "         --grounded_checkpoint groundingdino_swint_ogc.pth \\\n",
    "         --input_image  \\\n",
    "         --output_dir  \\\n",
    "         --box_threshold 0.30 \\\n",
    "         --text_threshold 0.25 \\\n",
    "         --text_prompt \"\" \\\n",
    "         --cls_id 0 \\\n",
    "         --device \"cuda\""
   ]
  }
 ],
 "metadata": {
  "kernelspec": {
   "display_name": "Python 3 (ipykernel)",
   "language": "python",
   "name": "python3"
  },
  "language_info": {
   "codemirror_mode": {
    "name": "ipython",
    "version": 3
   },
   "file_extension": ".py",
   "mimetype": "text/x-python",
   "name": "python",
   "nbconvert_exporter": "python",
   "pygments_lexer": "ipython3",
   "version": "3.8.11"
  }
 },
 "nbformat": 4,
 "nbformat_minor": 5
}
