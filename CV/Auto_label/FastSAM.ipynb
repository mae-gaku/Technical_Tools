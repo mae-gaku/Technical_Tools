{
 "cells": [
  {
   "cell_type": "markdown",
   "id": "3e122fe8-37c0-4d41-97ce-f74a57b13e3c",
   "metadata": {},
   "source": [
    "## FastSAM"
   ]
  },
  {
   "cell_type": "markdown",
   "id": "45ebd703-b6bd-4bd9-bbeb-566e79b0f278",
   "metadata": {},
   "source": [
    "### directory structure\n",
    "\n",
    "```\n",
    "./dataset\n",
    "    ├── input\n",
    "    │   ├── images\n",
    "    │   │   └── *.jpg\n",
    "    │   └── labels\n",
    "    │       └── *.txt\n",
    "    └── output\n",
    "        ├── images\n",
    "        │   └── *.jpg\n",
    "        └── labels\n",
    "            └── *.txt\n",
    "\n",
    "        \n",
    "```"
   ]
  },
  {
   "cell_type": "code",
   "execution_count": 1,
   "id": "50f35651-87a3-480e-92ea-d33004f27ee0",
   "metadata": {
    "scrolled": true,
    "tags": []
   },
   "outputs": [
    {
     "name": "stdout",
     "output_type": "stream",
     "text": [
      "python: can't open file 'Inference.py': [Errno 2] No such file or directory\n"
     ]
    }
   ],
   "source": [
    "!python Inference.py --model_path ./FastSAM-x.pt \n",
    "                    --input_image /mnt/dataset/input/images \\\n",
    "                    --input_label /mnt/dataset/input/labels \\\n",
    "                    --output_dir /mnt/dataset/output \\\n",
    "                    --device \"cuda:0\""
   ]
  },
  {
   "cell_type": "code",
   "execution_count": null,
   "id": "b2e5cb53-043e-4891-bef7-634bba41edaf",
   "metadata": {},
   "outputs": [],
   "source": []
  },
  {
   "cell_type": "code",
   "execution_count": null,
   "id": "f2383311-f4e7-4c57-a1b4-1a4f87148169",
   "metadata": {},
   "outputs": [],
   "source": []
  }
 ],
 "metadata": {
  "kernelspec": {
   "display_name": "Python 3 (ipykernel)",
   "language": "python",
   "name": "python3"
  },
  "language_info": {
   "codemirror_mode": {
    "name": "ipython",
    "version": 3
   },
   "file_extension": ".py",
   "mimetype": "text/x-python",
   "name": "python",
   "nbconvert_exporter": "python",
   "pygments_lexer": "ipython3",
   "version": "3.8.11"
  }
 },
 "nbformat": 4,
 "nbformat_minor": 5
}
