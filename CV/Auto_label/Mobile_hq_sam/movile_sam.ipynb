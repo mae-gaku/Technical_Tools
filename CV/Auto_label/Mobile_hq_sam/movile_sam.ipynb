{
 "cells": [
  {
   "attachments": {},
   "cell_type": "markdown",
   "id": "6b32caab",
   "metadata": {},
   "source": [
    "\n",
    "### Mobile_sam_onnx\n",
    "\n",
    "https://colab.research.google.com/drive/1esyyeKG3yTN9ro2YDfegte-HlczN63Nx"
   ]
  },
  {
   "attachments": {},
   "cell_type": "markdown",
   "id": "8062ccbc",
   "metadata": {},
   "source": [
    "### HQ_SAM_onnx\n",
    "\n",
    "\n",
    "https://colab.research.google.com/drive/1hnI4qYt-GjZRb8g-5kvuU_sofz2AqBqB"
   ]
  },
  {
   "cell_type": "code",
   "execution_count": null,
   "id": "a17ea025-03c8-4bb1-b608-adcb5d93fa2d",
   "metadata": {
    "scrolled": true,
    "tags": []
   },
   "outputs": [],
   "source": [
    "!python3 ./EfficientSAM/grounded_mobile_sam.py"
   ]
  },
  {
   "cell_type": "markdown",
   "id": "540ff5a8-9ef5-4aa3-83c4-bcc413819ddf",
   "metadata": {},
   "source": [
    "## Investigate"
   ]
  },
  {
   "cell_type": "code",
   "execution_count": null,
   "id": "2f7ea44d-eb96-42bc-81b3-a803c63c9abe",
   "metadata": {
    "scrolled": true,
    "tags": []
   },
   "outputs": [],
   "source": [
    "!python3 ./EfficientSAM/test.py"
   ]
  },
  {
   "cell_type": "code",
   "execution_count": null,
   "id": "b00c89f1-86e6-46f8-b820-71e250e68e9b",
   "metadata": {
    "scrolled": true,
    "tags": []
   },
   "outputs": [],
   "source": [
    "!python3 ./EfficientSAM/test1.py"
   ]
  },
  {
   "cell_type": "code",
   "execution_count": null,
   "id": "83de0ff2-4f08-4348-986e-6019f62157c2",
   "metadata": {},
   "outputs": [],
   "source": [
    "plt.figure(figsize=(10,10))\n",
    "plt.imshow(image)\n",
    "plt.axis('on')\n",
    "plt.show()"
   ]
  },
  {
   "cell_type": "markdown",
   "id": "6ea5d43e-74a5-49e3-a943-cb9ce48dc0fd",
   "metadata": {},
   "source": [
    "## Mobile-sam-onnx"
   ]
  },
  {
   "cell_type": "code",
   "execution_count": null,
   "id": "fbbed4b9-0f06-44e1-9101-27cf18dcbce2",
   "metadata": {
    "scrolled": true,
    "tags": []
   },
   "outputs": [],
   "source": [
    "!python3 ./EfficientSAM/Mobile-sam-onnx.py"
   ]
  },
  {
   "cell_type": "markdown",
   "id": "a5b2f56d-bbe1-4a7c-8e8e-26e47636ba17",
   "metadata": {},
   "source": [
    "## Light-hq-sam"
   ]
  },
  {
   "cell_type": "code",
   "execution_count": null,
   "id": "aea09659-3c98-49c4-96f4-ee10391cb5c1",
   "metadata": {
    "scrolled": true,
    "tags": []
   },
   "outputs": [],
   "source": [
    "!python3 ./EfficientSAM/Light-hq-sam-onnx.py"
   ]
  }
 ],
 "metadata": {
  "kernelspec": {
   "display_name": "Python 3 (ipykernel)",
   "language": "python",
   "name": "python3"
  },
  "language_info": {
   "codemirror_mode": {
    "name": "ipython",
    "version": 3
   },
   "file_extension": ".py",
   "mimetype": "text/x-python",
   "name": "python",
   "nbconvert_exporter": "python",
   "pygments_lexer": "ipython3",
   "version": "3.8.11"
  }
 },
 "nbformat": 4,
 "nbformat_minor": 5
}
