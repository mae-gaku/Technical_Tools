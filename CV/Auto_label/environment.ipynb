{
 "cells": [
  {
   "cell_type": "code",
   "execution_count": null,
   "id": "67642905-08cd-4ec8-9ef2-a4349f16cc52",
   "metadata": {
    "scrolled": true,
    "tags": []
   },
   "outputs": [],
   "source": [
    "!apt update"
   ]
  },
  {
   "cell_type": "code",
   "execution_count": null,
   "id": "36540a85-a605-4f05-b6ba-156c5914f42a",
   "metadata": {
    "scrolled": true,
    "tags": []
   },
   "outputs": [],
   "source": [
    "!apt-get install git-all -y"
   ]
  },
  {
   "cell_type": "code",
   "execution_count": null,
   "id": "77c9ce77-1e18-4771-978f-b9ad4777b4ed",
   "metadata": {},
   "outputs": [],
   "source": [
    "%cd /mnt/Grounded-Segment-Anything"
   ]
  },
  {
   "cell_type": "code",
   "execution_count": null,
   "id": "dc9712f2-9729-4cb4-af56-18848969e344",
   "metadata": {},
   "outputs": [],
   "source": [
    "# %cd /mnt/hq-sam/Grounded-Segment-Anything"
   ]
  },
  {
   "cell_type": "code",
   "execution_count": null,
   "id": "6c8f1919-dffb-4c00-a3dc-24da1acfac6e",
   "metadata": {
    "scrolled": true,
    "tags": []
   },
   "outputs": [],
   "source": [
    "!python3 -m pip install -e segment_anything"
   ]
  },
  {
   "cell_type": "code",
   "execution_count": null,
   "id": "7ca45f47-1708-4145-a84d-6dd60f08f9f1",
   "metadata": {
    "scrolled": true,
    "tags": []
   },
   "outputs": [],
   "source": [
    "!apt-get install make gcc g++ -y"
   ]
  },
  {
   "cell_type": "code",
   "execution_count": null,
   "id": "8f1c5c2a-449c-43b5-92c7-aa0c73273974",
   "metadata": {
    "scrolled": true,
    "tags": []
   },
   "outputs": [],
   "source": [
    "!python3 -m pip install -e GroundingDINO"
   ]
  },
  {
   "cell_type": "code",
   "execution_count": null,
   "id": "0ac84422-de47-49a0-9d6a-724ff87b5233",
   "metadata": {
    "scrolled": true,
    "tags": []
   },
   "outputs": [],
   "source": [
    "!pip install opencv-python pycocotools matplotlib onnxruntime onnx ipykernel"
   ]
  },
  {
   "cell_type": "code",
   "execution_count": null,
   "id": "345707dc-c129-47b0-9bb5-c13da66f64f1",
   "metadata": {},
   "outputs": [],
   "source": []
  }
 ],
 "metadata": {
  "kernelspec": {
   "display_name": "Python 3 (ipykernel)",
   "language": "python",
   "name": "python3"
  },
  "language_info": {
   "codemirror_mode": {
    "name": "ipython",
    "version": 3
   },
   "file_extension": ".py",
   "mimetype": "text/x-python",
   "name": "python",
   "nbconvert_exporter": "python",
   "pygments_lexer": "ipython3",
   "version": "3.8.11"
  }
 },
 "nbformat": 4,
 "nbformat_minor": 5
}
