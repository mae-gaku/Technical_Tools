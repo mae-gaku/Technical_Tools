{
  "nbformat": 4,
  "nbformat_minor": 0,
  "metadata": {
    "colab": {
      "private_outputs": true,
      "provenance": []
    },
    "kernelspec": {
      "name": "python3",
      "display_name": "Python 3"
    },
    "language_info": {
      "name": "python"
    }
  },
  "cells": [
    {
      "cell_type": "code",
      "execution_count": null,
      "metadata": {
        "id": "JWyL7RWRGVDz"
      },
      "outputs": [],
      "source": [
        "!git clone https://github.com/ggerganov/llama.cpp"
      ]
    },
    {
      "cell_type": "code",
      "source": [
        "%cd llama.cpp"
      ],
      "metadata": {
        "id": "_WutN4gTKWvT"
      },
      "execution_count": null,
      "outputs": []
    },
    {
      "cell_type": "code",
      "source": [
        "!make"
      ],
      "metadata": {
        "id": "FFjcXHqFKZQY"
      },
      "execution_count": null,
      "outputs": []
    },
    {
      "cell_type": "code",
      "source": [
        "!wget https://huggingface.co/localmodels/Llama-2-7B-Chat-ggml/resolve/main/llama-2-7b-chat.ggmlv3.q2_K.bin"
      ],
      "metadata": {
        "id": "f68PEYPjKxit"
      },
      "execution_count": null,
      "outputs": []
    },
    {
      "cell_type": "code",
      "source": [
        "!python3 convert-llama-ggml-to-gguf.py --input /content/llama.cpp/llama-2-7b-chat.ggmlv3.q2_K.bin --output llama-model.gguf"
      ],
      "metadata": {
        "id": "Vop_bdpkKyoJ"
      },
      "execution_count": null,
      "outputs": []
    },
    {
      "cell_type": "code",
      "source": [
        "!make -j && ./main -m /content/llama.cpp/llama-model.gguf  -p \"Give me the code to get a random number in python.\" -n 400 -e\n"
      ],
      "metadata": {
        "id": "yCPxr-aZKbXT"
      },
      "execution_count": null,
      "outputs": []
    }
  ]
}